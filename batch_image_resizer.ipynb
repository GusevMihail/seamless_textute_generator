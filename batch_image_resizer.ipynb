{
  "nbformat": 4,
  "nbformat_minor": 0,
  "metadata": {
    "colab": {
      "name": "batch_image_resizer.ipynb",
      "provenance": [],
      "authorship_tag": "ABX9TyMUwFUhytMdpACeBKrZ7NTI",
      "include_colab_link": true
    },
    "kernelspec": {
      "name": "python3",
      "display_name": "Python 3"
    }
  },
  "cells": [
    {
      "cell_type": "markdown",
      "metadata": {
        "id": "view-in-github",
        "colab_type": "text"
      },
      "source": [
        "<a href=\"https://colab.research.google.com/github/GusevMihail/seamless_textute_generator/blob/master/batch_image_resizer.ipynb\" target=\"_parent\"><img src=\"https://colab.research.google.com/assets/colab-badge.svg\" alt=\"Open In Colab\"/></a>"
      ]
    },
    {
      "cell_type": "code",
      "metadata": {
        "id": "Jax3FMouh7Ax"
      },
      "source": [
        "import cv2\n",
        "import albumentations as albu\n",
        "import numpy as np\n"
      ],
      "execution_count": 9,
      "outputs": []
    },
    {
      "cell_type": "code",
      "metadata": {
        "colab": {
          "base_uri": "https://localhost:8080/"
        },
        "id": "92LqjLPffSco",
        "outputId": "0d7edb46-0884-40a4-c32d-25136ce28e6d"
      },
      "source": [
        "import os.path\n",
        "import sys\n",
        "if 'google' in sys.modules:\n",
        "    from google.colab import drive\n",
        "    drive.mount('/content/drive')\n",
        "    !mkdir data\n",
        "    !mkdir data/train\n",
        "    if os.path.exists('data/train'):\n",
        "        !cp /content/drive/MyDrive/Colab/seamless_textute_generator/data/concrete_maps.zip data\n",
        "        !unzip -q -n data/concrete_maps.zip -d data/train"
      ],
      "execution_count": 10,
      "outputs": [
        {
          "output_type": "stream",
          "text": [
            "Drive already mounted at /content/drive; to attempt to forcibly remount, call drive.mount(\"/content/drive\", force_remount=True).\n",
            "mkdir: cannot create directory ‘data’: File exists\n",
            "mkdir: cannot create directory ‘data/train’: File exists\n"
          ],
          "name": "stdout"
        }
      ]
    },
    {
      "cell_type": "code",
      "metadata": {
        "id": "VsSiYTxUgFON"
      },
      "source": [
        "data_folder = r'data/train'\n",
        "image_names = tuple(f for f in os.listdir(data_folder) if os.path.isfile(os.path.join(data_folder, f)))"
      ],
      "execution_count": 11,
      "outputs": []
    },
    {
      "cell_type": "code",
      "metadata": {
        "id": "J_kgLlSsgJsV"
      },
      "source": [
        "!mkdir data/resize\n",
        "out_folder = r'data/resize'"
      ],
      "execution_count": 27,
      "outputs": []
    },
    {
      "cell_type": "markdown",
      "metadata": {
        "id": "HUSuqBKMF8iB"
      },
      "source": [
        "## Пакетный ресайз"
      ]
    },
    {
      "cell_type": "code",
      "metadata": {
        "colab": {
          "base_uri": "https://localhost:8080/"
        },
        "id": "UCryFy1sosLQ",
        "outputId": "6dc04fef-1b56-467a-c28f-6d5b31e38daa"
      },
      "source": [
        "%%time\n",
        "MAX_SIZE = 1000\n",
        "\n",
        "for f in os.listdir(data_folder):\n",
        "    in_f = os.path.join(data_folder, f)\n",
        "    if os.path.isfile(in_f):\n",
        "        image = cv2.imread(in_f)\n",
        "        transform = albu.LongestMaxSize(max_size=MAX_SIZE, interpolation=cv2.INTER_CUBIC)\n",
        "        resized = transform(image=image)['image']\n",
        "        out_f = os.path.join(out_folder, f)\n",
        "        cv2.imwrite(out_f, resized)\n",
        "    "
      ],
      "execution_count": null,
      "outputs": [
        {
          "output_type": "stream",
          "text": [
            "CPU times: user 26.5 s, sys: 418 ms, total: 26.9 s\n",
            "Wall time: 25.8 s\n"
          ],
          "name": "stdout"
        }
      ]
    },
    {
      "cell_type": "code",
      "metadata": {
        "colab": {
          "base_uri": "https://localhost:8080/"
        },
        "id": "z0R41jNAlNLv",
        "outputId": "11accbee-1033-486d-a5ec-8cce14351349"
      },
      "source": [
        "for f in os.listdir(out_folder):\n",
        "    f = os.path.join(out_folder, f)\n",
        "    if os.path.isfile(f):\n",
        "        print('READING RESIZED IMAGE')\n",
        "        %time image = cv2.imread(f)\n",
        "        break"
      ],
      "execution_count": null,
      "outputs": [
        {
          "output_type": "stream",
          "text": [
            "READING RESIZED IMAGE\n",
            "CPU times: user 14.2 ms, sys: 6 µs, total: 14.2 ms\n",
            "Wall time: 15.7 ms\n"
          ],
          "name": "stdout"
        }
      ]
    },
    {
      "cell_type": "code",
      "metadata": {
        "id": "L5Vqr4o8r-Tt"
      },
      "source": [
        "!zip -j -r -q data/concrete_maps_1K.zip data/resize/* "
      ],
      "execution_count": null,
      "outputs": []
    },
    {
      "cell_type": "code",
      "metadata": {
        "id": "U_J-9VpZny2E"
      },
      "source": [
        "!cp data/concrete_maps_1K.zip /content/drive/MyDrive/Colab/seamless_textute_generator/data"
      ],
      "execution_count": null,
      "outputs": []
    },
    {
      "cell_type": "markdown",
      "metadata": {
        "id": "b0oeX_-_GHFa"
      },
      "source": [
        "## \"Плиточная\" нарезка изображений"
      ]
    },
    {
      "cell_type": "code",
      "metadata": {
        "id": "TdW3nQnfWgO0",
        "outputId": "744f6560-dfbe-4268-f3e8-0d9c0443a36c",
        "colab": {
          "base_uri": "https://localhost:8080/"
        }
      },
      "source": [
        "%%time\n",
        "\n",
        "OUT_W = 1000\n",
        "OUT_H = 1000\n",
        "\n",
        "def split_image_side(in_side, out_side):\n",
        "    return np.linspace(start=0,\n",
        "                       stop=in_side - out_side,\n",
        "                       num=in_side // out_side + 1,\n",
        "                       dtype=np.int16)\n",
        "\n",
        "for f in os.listdir(data_folder):\n",
        "    in_f = os.path.join(data_folder, f)\n",
        "    if os.path.isfile(in_f):\n",
        "        image = cv2.imread(in_f)\n",
        "        hight, width, channels = image.shape\n",
        "        i = 0\n",
        "        for h in split_image_side(hight, OUT_H):\n",
        "            for w in split_image_side(width, OUT_W):\n",
        "                i += 1\n",
        "                resized = image[h:h + OUT_H, w:w + OUT_W]\n",
        "                #TODO написать разбивку имени файла на имя и расширение,\n",
        "                # чтобы добавлять суфикс к имени перед расширением.\n",
        "                f_name, f_ext = os.path.splitext(f)\n",
        "                out_f = os.path.join(out_folder, f'{f_name}_{i:0>3}{f_ext}')\n",
        "                cv2.imwrite(out_f, resized)"
      ],
      "execution_count": 28,
      "outputs": [
        {
          "output_type": "stream",
          "text": [
            "CPU times: user 1min 5s, sys: 2.3 s, total: 1min 7s\n",
            "Wall time: 1min 7s\n"
          ],
          "name": "stdout"
        }
      ]
    },
    {
      "cell_type": "code",
      "metadata": {
        "id": "dFwsEi6G7pkz"
      },
      "source": [
        "!zip -j -r -q data/concrete_maps_1K.zip data/resize/* "
      ],
      "execution_count": 29,
      "outputs": []
    },
    {
      "cell_type": "code",
      "metadata": {
        "id": "wuHwltZi9rxa"
      },
      "source": [
        "!cp data/concrete_maps_1K.zip /content/drive/MyDrive/Colab/seamless_textute_generator/data"
      ],
      "execution_count": 30,
      "outputs": []
    },
    {
      "cell_type": "markdown",
      "metadata": {
        "id": "LYDHzIw-o0gR"
      },
      "source": [
        "## Далее следуют тесты\n"
      ]
    },
    {
      "cell_type": "code",
      "metadata": {
        "id": "7brS9QlPutS0"
      },
      "source": [
        "!mkdir data/test\n",
        "!unzip -q data/concrete_maps_1K.zip -d data/test"
      ],
      "execution_count": null,
      "outputs": []
    },
    {
      "cell_type": "code",
      "metadata": {
        "id": "Az_las1IvL2S"
      },
      "source": [
        "!rm -r data/resize"
      ],
      "execution_count": 26,
      "outputs": []
    },
    {
      "cell_type": "code",
      "metadata": {
        "id": "HaPgIucgvw3R"
      },
      "source": [
        "!rm data/concrete_maps_1K.zip"
      ],
      "execution_count": null,
      "outputs": []
    },
    {
      "cell_type": "code",
      "metadata": {
        "id": "JJdZmtCeslz9"
      },
      "source": [
        "!man zip"
      ],
      "execution_count": null,
      "outputs": []
    }
  ]
}