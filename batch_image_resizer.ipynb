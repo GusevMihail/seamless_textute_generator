{
  "nbformat": 4,
  "nbformat_minor": 0,
  "metadata": {
    "colab": {
      "name": "batch_image_resizer.ipynb",
      "provenance": [],
      "authorship_tag": "ABX9TyOFapKLUITDrBCk/o1ZH35v",
      "include_colab_link": true
    },
    "kernelspec": {
      "name": "python3",
      "display_name": "Python 3"
    }
  },
  "cells": [
    {
      "cell_type": "markdown",
      "metadata": {
        "id": "view-in-github",
        "colab_type": "text"
      },
      "source": [
        "<a href=\"https://colab.research.google.com/github/GusevMihail/seamless_textute_generator/blob/master/batch_image_resizer.ipynb\" target=\"_parent\"><img src=\"https://colab.research.google.com/assets/colab-badge.svg\" alt=\"Open In Colab\"/></a>"
      ]
    },
    {
      "cell_type": "code",
      "metadata": {
        "id": "Jax3FMouh7Ax"
      },
      "source": [
        "import cv2\n",
        "import albumentations as albu"
      ],
      "execution_count": 1,
      "outputs": []
    },
    {
      "cell_type": "code",
      "metadata": {
        "colab": {
          "base_uri": "https://localhost:8080/"
        },
        "id": "92LqjLPffSco",
        "outputId": "f27959f8-9dbd-4923-8b0f-4fa4e69fb0f4"
      },
      "source": [
        "import os.path\n",
        "import sys\n",
        "if 'google' in sys.modules:\n",
        "    from google.colab import drive\n",
        "    drive.mount('/content/drive')\n",
        "    !mkdir data\n",
        "    !mkdir data/train\n",
        "    if os.path.exists('data/train'):\n",
        "        !cp /content/drive/MyDrive/Colab/seamless_textute_generator/data/concrete_maps.zip data\n",
        "        !unzip -q -n data/concrete_maps.zip -d data/train"
      ],
      "execution_count": 2,
      "outputs": [
        {
          "output_type": "stream",
          "text": [
            "Mounted at /content/drive\n"
          ],
          "name": "stdout"
        }
      ]
    },
    {
      "cell_type": "code",
      "metadata": {
        "id": "VsSiYTxUgFON"
      },
      "source": [
        "data_folder = r'data/train'\n",
        "image_names = tuple(f for f in os.listdir(data_folder) if os.path.isfile(os.path.join(data_folder, f)))"
      ],
      "execution_count": 3,
      "outputs": []
    },
    {
      "cell_type": "code",
      "metadata": {
        "id": "J_kgLlSsgJsV"
      },
      "source": [
        "!mkdir data/resize\n",
        "out_folder = r'data/resize'"
      ],
      "execution_count": 4,
      "outputs": []
    },
    {
      "cell_type": "code",
      "metadata": {
        "colab": {
          "base_uri": "https://localhost:8080/"
        },
        "id": "FncuhprrhDHl",
        "outputId": "b9054a81-1532-4d38-9e73-09ba84c8f8ec"
      },
      "source": [
        "%%timeit\n",
        "\n",
        "for f in os.listdir(data_folder):\n",
        "    f = os.path.join(data_folder, f)\n",
        "    if os.path.isfile(f):\n",
        "        image = cv2.imread(f)\n",
        "        print(image.shape)\n",
        "        r = cv2.resize(image, (1000,568))\n",
        "        print(r.shape)\n",
        "\n",
        "    break\n"
      ],
      "execution_count": 5,
      "outputs": [
        {
          "output_type": "stream",
          "text": [
            "(5000, 8800, 3)\n",
            "(568, 1000, 3)\n",
            "(5000, 8800, 3)\n",
            "(568, 1000, 3)\n",
            "(5000, 8800, 3)\n",
            "(568, 1000, 3)\n",
            "(5000, 8800, 3)\n",
            "(568, 1000, 3)\n",
            "(5000, 8800, 3)\n",
            "(568, 1000, 3)\n",
            "(5000, 8800, 3)\n",
            "(568, 1000, 3)\n",
            "1 loop, best of 5: 659 ms per loop\n"
          ],
          "name": "stdout"
        }
      ]
    },
    {
      "cell_type": "code",
      "metadata": {
        "colab": {
          "base_uri": "https://localhost:8080/"
        },
        "id": "L4sAE6M4mjLO",
        "outputId": "a5a58215-f2dc-4301-8ddf-019ed5261bd9"
      },
      "source": [
        "%%time\n",
        "\n",
        "for f in os.listdir(data_folder):\n",
        "    f = os.path.join(data_folder, f)\n",
        "    if os.path.isfile(f):\n",
        "        print('READING')\n",
        "        %time image = cv2.imread(f)\n",
        "        print(image.shape)\n",
        "        transform = albu.LongestMaxSize(max_size=1000, interpolation=cv2.INTER_CUBIC)\n",
        "        print('RESIZE')\n",
        "        %time r = transform(image=image)['image']\n",
        "        print(r.shape)\n",
        "\n",
        "    break"
      ],
      "execution_count": 8,
      "outputs": [
        {
          "output_type": "stream",
          "text": [
            "READING\n",
            "CPU times: user 681 ms, sys: 9.64 ms, total: 690 ms\n",
            "Wall time: 700 ms\n",
            "(5000, 8800, 3)\n",
            "RESIZE\n",
            "CPU times: user 44 ms, sys: 961 µs, total: 45 ms\n",
            "Wall time: 22.7 ms\n",
            "(568, 1000, 3)\n",
            "CPU times: user 728 ms, sys: 10.8 ms, total: 739 ms\n",
            "Wall time: 727 ms\n"
          ],
          "name": "stdout"
        }
      ]
    },
    {
      "cell_type": "code",
      "metadata": {
        "colab": {
          "base_uri": "https://localhost:8080/"
        },
        "id": "UCryFy1sosLQ",
        "outputId": "6dc04fef-1b56-467a-c28f-6d5b31e38daa"
      },
      "source": [
        "%%time\n",
        "MAX_SIZE = 1000\n",
        "\n",
        "for f in os.listdir(data_folder):\n",
        "    in_f = os.path.join(data_folder, f)\n",
        "    if os.path.isfile(in_f):\n",
        "        image = cv2.imread(in_f)\n",
        "        transform = albu.LongestMaxSize(max_size=MAX_SIZE, interpolation=cv2.INTER_CUBIC)\n",
        "        resized = transform(image=image)['image']\n",
        "        out_f = os.path.join(out_folder, f)\n",
        "        cv2.imwrite(out_f, resized)\n",
        "    "
      ],
      "execution_count": 7,
      "outputs": [
        {
          "output_type": "stream",
          "text": [
            "CPU times: user 26.5 s, sys: 418 ms, total: 26.9 s\n",
            "Wall time: 25.8 s\n"
          ],
          "name": "stdout"
        }
      ]
    },
    {
      "cell_type": "code",
      "metadata": {
        "colab": {
          "base_uri": "https://localhost:8080/"
        },
        "id": "z0R41jNAlNLv",
        "outputId": "11accbee-1033-486d-a5ec-8cce14351349"
      },
      "source": [
        "for f in os.listdir(out_folder):\n",
        "    f = os.path.join(out_folder, f)\n",
        "    if os.path.isfile(f):\n",
        "        print('READING RESIZED IMAGE')\n",
        "        %time image = cv2.imread(f)\n",
        "        break"
      ],
      "execution_count": 10,
      "outputs": [
        {
          "output_type": "stream",
          "text": [
            "READING RESIZED IMAGE\n",
            "CPU times: user 14.2 ms, sys: 6 µs, total: 14.2 ms\n",
            "Wall time: 15.7 ms\n"
          ],
          "name": "stdout"
        }
      ]
    },
    {
      "cell_type": "code",
      "metadata": {
        "id": "L5Vqr4o8r-Tt"
      },
      "source": [
        "!zip -j -r -q data/concrete_maps_1K.zip data/resize/* "
      ],
      "execution_count": 16,
      "outputs": []
    },
    {
      "cell_type": "code",
      "metadata": {
        "id": "U_J-9VpZny2E"
      },
      "source": [
        "!cp data/concrete_maps_1K.zip /content/drive/MyDrive/Colab/seamless_textute_generator/data"
      ],
      "execution_count": 17,
      "outputs": []
    },
    {
      "cell_type": "markdown",
      "metadata": {
        "id": "LYDHzIw-o0gR"
      },
      "source": [
        "Далее следуют тесты\n"
      ]
    },
    {
      "cell_type": "code",
      "metadata": {
        "id": "7brS9QlPutS0"
      },
      "source": [
        "!mkdir data/test\n",
        "!unzip -q data/concrete_maps_1K.zip -d data/test"
      ],
      "execution_count": null,
      "outputs": []
    },
    {
      "cell_type": "code",
      "metadata": {
        "id": "Az_las1IvL2S"
      },
      "source": [
        "!rm -r data/test"
      ],
      "execution_count": null,
      "outputs": []
    },
    {
      "cell_type": "code",
      "metadata": {
        "id": "HaPgIucgvw3R"
      },
      "source": [
        "!rm data/concrete_maps_1K.zip"
      ],
      "execution_count": null,
      "outputs": []
    },
    {
      "cell_type": "code",
      "metadata": {
        "id": "JJdZmtCeslz9"
      },
      "source": [
        "!man zip"
      ],
      "execution_count": null,
      "outputs": []
    }
  ]
}