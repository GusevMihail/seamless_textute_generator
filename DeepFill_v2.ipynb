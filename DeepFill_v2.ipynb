{
  "nbformat": 4,
  "nbformat_minor": 0,
  "metadata": {
    "colab": {
      "name": "DeepFill_v2.ipynb",
      "provenance": [],
      "collapsed_sections": [],
      "authorship_tag": "ABX9TyPnd/QkJRG93s59teAMYBtL",
      "include_colab_link": true
    },
    "kernelspec": {
      "name": "python3",
      "display_name": "Python 3"
    },
    "language_info": {
      "name": "python"
    },
    "accelerator": "GPU"
  },
  "cells": [
    {
      "cell_type": "markdown",
      "metadata": {
        "id": "view-in-github",
        "colab_type": "text"
      },
      "source": [
        "<a href=\"https://colab.research.google.com/github/GusevMihail/seamless_textute_generator/blob/master/DeepFill_v2.ipynb\" target=\"_parent\"><img src=\"https://colab.research.google.com/assets/colab-badge.svg\" alt=\"Open In Colab\"/></a>"
      ]
    },
    {
      "cell_type": "code",
      "metadata": {
        "colab": {
          "base_uri": "https://localhost:8080/"
        },
        "id": "l_WR_kWTw1dQ",
        "outputId": "25d07927-1cf1-47c3-e2af-135439f70adf"
      },
      "source": [
        "# download DeepFill v2 realization\n",
        "!wget https://github.com/csqiangwen/DeepFillv2_Pytorch/archive/refs/heads/master.zip\n",
        "!unzip -q -n master.zip\n",
        "!rm master.zip"
      ],
      "execution_count": 24,
      "outputs": [
        {
          "output_type": "stream",
          "text": [
            "--2021-08-25 14:55:40--  https://github.com/csqiangwen/DeepFillv2_Pytorch/archive/refs/heads/master.zip\n",
            "Resolving github.com (github.com)... 192.30.255.113\n",
            "Connecting to github.com (github.com)|192.30.255.113|:443... connected.\n",
            "HTTP request sent, awaiting response... 302 Found\n",
            "Location: https://codeload.github.com/csqiangwen/DeepFillv2_Pytorch/zip/refs/heads/master [following]\n",
            "--2021-08-25 14:55:40--  https://codeload.github.com/csqiangwen/DeepFillv2_Pytorch/zip/refs/heads/master\n",
            "Resolving codeload.github.com (codeload.github.com)... 192.30.255.121\n",
            "Connecting to codeload.github.com (codeload.github.com)|192.30.255.121|:443... connected.\n",
            "HTTP request sent, awaiting response... 200 OK\n",
            "Length: unspecified [application/zip]\n",
            "Saving to: ‘DeepFillv2/master.zip’\n",
            "\n",
            "master.zip              [    <=>             ]  18.98M  26.5MB/s    in 0.7s    \n",
            "\n",
            "2021-08-25 14:55:41 (26.5 MB/s) - ‘DeepFillv2/master.zip’ saved [19904092]\n",
            "\n"
          ],
          "name": "stdout"
        }
      ]
    },
    {
      "cell_type": "code",
      "metadata": {
        "colab": {
          "base_uri": "https://localhost:8080/"
        },
        "id": "LdFG6W4W_aWW",
        "outputId": "ab62f88b-131c-4e56-cb18-e86e1336a8b8"
      },
      "source": [
        "!mkdir DeepFillv2_Pytorch-master/pretrained_model/\n",
        "!pip install imgcrop"
      ],
      "execution_count": 49,
      "outputs": [
        {
          "output_type": "stream",
          "text": [
            "Requirement already satisfied: imgcrop in /usr/local/lib/python3.7/dist-packages (0.1.0)\n",
            "Requirement already satisfied: opencv-python in /usr/local/lib/python3.7/dist-packages (from imgcrop) (4.1.2.30)\n",
            "Requirement already satisfied: numpy in /usr/local/lib/python3.7/dist-packages (from imgcrop) (1.19.5)\n"
          ],
          "name": "stdout"
        }
      ]
    },
    {
      "cell_type": "markdown",
      "metadata": {
        "id": "hrwhquRADK0P"
      },
      "source": [
        "Download the pretrained model [here](https://drive.google.com/file/d/1uMghKl883-9hDLhSiI8lRbHCzCmmRwV-/view?usp=sharing) and put it in ./pretrained_model/."
      ]
    },
    {
      "cell_type": "code",
      "metadata": {
        "colab": {
          "base_uri": "https://localhost:8080/"
        },
        "id": "IJm9vV6TEm0E",
        "outputId": "6126d98f-5b57-481e-8406-ce86646a68fa"
      },
      "source": [
        "import sys\n",
        "if 'google' in sys.modules:\n",
        "    from google.colab import drive\n",
        "    drive.mount('/content/drive')\n",
        "    !mkdir DeepFillv2_Pytorch-master/pretrained_model/\n",
        "    !cp /content/drive/MyDrive/Colab/seamless_textute_generator/deepfillv2_WGAN_G_epoch40_batchsize4.pth \\\n",
        "     DeepFillv2_Pytorch-master/pretrained_model/\n"
      ],
      "execution_count": 51,
      "outputs": [
        {
          "output_type": "stream",
          "text": [
            "Mounted at /content/drive\n",
            "mkdir: cannot create directory ‘DeepFillv2_Pytorch-master/pretrained_model/’: File exists\n"
          ],
          "name": "stdout"
        }
      ]
    },
    {
      "cell_type": "code",
      "metadata": {
        "colab": {
          "base_uri": "https://localhost:8080/"
        },
        "id": "9HsCAr3V7XQX",
        "outputId": "2800f0df-e94e-41bb-c522-67d337c4a34e"
      },
      "source": [
        "!DeepFillv2_Pytorch-master/run_test.sh"
      ],
      "execution_count": 54,
      "outputs": [
        {
          "output_type": "stream",
          "text": [
            "/bin/bash: DeepFillv2_Pytorch-master/run_test.sh: Permission denied\n"
          ],
          "name": "stdout"
        }
      ]
    },
    {
      "cell_type": "code",
      "metadata": {
        "colab": {
          "base_uri": "https://localhost:8080/"
        },
        "id": "T7ry6xwF9qpy",
        "outputId": "32049692-3b13-4835-9924-73735215b1ff"
      },
      "source": [
        "\n",
        "!cd DeepFillv2_Pytorch-master/ && python3 test.py \\\n",
        "--baseroot './test_data/' \\\n",
        "--baseroot_mask './test_data_mask/' \\\n",
        "--results_path './results' \\\n",
        "--gan_type 'WGAN' \\\n",
        "--gpu_ids '1' \\\n",
        "--epoch 40 \\\n",
        "--batch_size 1 \\\n",
        "--num_workers 8 \\\n",
        "--pad_type 'zero' \\\n",
        "--activation 'elu' \\\n",
        "--norm 'none' \\"
      ],
      "execution_count": 55,
      "outputs": [
        {
          "output_type": "stream",
          "text": [
            "Generator is created!\n",
            "Initialize generator with xavier type\n",
            "-------------------------Loading Pretrained Model-------------------------\n",
            "Traceback (most recent call last):\n",
            "  File \"test.py\", line 41, in <module>\n",
            "    tester.WGAN_tester(opt)\n",
            "  File \"/content/DeepFillv2_Pytorch-master/tester.py\", line 36, in WGAN_tester\n",
            "    load_model_generator(generator, opt.epoch, opt)\n",
            "  File \"/content/DeepFillv2_Pytorch-master/tester.py\", line 22, in load_model_generator\n",
            "    pretrained_dict = torch.load(model_name)\n",
            "  File \"/usr/local/lib/python3.7/dist-packages/torch/serialization.py\", line 608, in load\n",
            "    return _legacy_load(opened_file, map_location, pickle_module, **pickle_load_args)\n",
            "  File \"/usr/local/lib/python3.7/dist-packages/torch/serialization.py\", line 787, in _legacy_load\n",
            "    result = unpickler.load()\n",
            "  File \"/usr/local/lib/python3.7/dist-packages/torch/serialization.py\", line 743, in persistent_load\n",
            "    deserialized_objects[root_key] = restore_location(obj, location)\n",
            "  File \"/usr/local/lib/python3.7/dist-packages/torch/serialization.py\", line 175, in default_restore_location\n",
            "    result = fn(storage, location)\n",
            "  File \"/usr/local/lib/python3.7/dist-packages/torch/serialization.py\", line 151, in _cuda_deserialize\n",
            "    device = validate_cuda_device(location)\n",
            "  File \"/usr/local/lib/python3.7/dist-packages/torch/serialization.py\", line 135, in validate_cuda_device\n",
            "    raise RuntimeError('Attempting to deserialize object on a CUDA '\n",
            "RuntimeError: Attempting to deserialize object on a CUDA device but torch.cuda.is_available() is False. If you are running on a CPU-only machine, please use torch.load with map_location=torch.device('cpu') to map your storages to the CPU.\n"
          ],
          "name": "stdout"
        }
      ]
    },
    {
      "cell_type": "code",
      "metadata": {
        "colab": {
          "base_uri": "https://localhost:8080/"
        },
        "id": "VzyJRMS9_Udi",
        "outputId": "e4b97a5e-e2b8-4629-c23f-0e0261281e19"
      },
      "source": [
        "\n",
        "!pwd"
      ],
      "execution_count": 39,
      "outputs": [
        {
          "output_type": "stream",
          "text": [
            "/content\n"
          ],
          "name": "stdout"
        }
      ]
    }
  ]
}