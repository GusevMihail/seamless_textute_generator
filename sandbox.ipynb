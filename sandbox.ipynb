{
  "nbformat": 4,
  "nbformat_minor": 0,
  "metadata": {
    "colab": {
      "name": "sandbox.ipynb",
      "provenance": [],
      "collapsed_sections": [],
      "include_colab_link": true
    },
    "kernelspec": {
      "name": "python3",
      "display_name": "Python 3"
    }
  },
  "cells": [
    {
      "cell_type": "markdown",
      "metadata": {
        "id": "view-in-github",
        "colab_type": "text"
      },
      "source": [
        "<a href=\"https://colab.research.google.com/github/GusevMihail/seamless_textute_generator/blob/master/sandbox.ipynb\" target=\"_parent\"><img src=\"https://colab.research.google.com/assets/colab-badge.svg\" alt=\"Open In Colab\"/></a>"
      ]
    },
    {
      "cell_type": "code",
      "metadata": {
        "colab": {
          "base_uri": "https://localhost:8080/"
        },
        "id": "mnl1Z1PQC48k",
        "outputId": "35c74e70-c8bb-4c82-bdd6-b7dc43c1e3a2"
      },
      "source": [
        "import os.path\r\n",
        "import sys\r\n",
        "if 'google' in sys.modules:\r\n",
        "    from google.colab import drive\r\n",
        "    drive.mount('/content/drive')\r\n",
        "    !mkdir data\r\n",
        "    !mkdir data/train\r\n",
        "    if os.path.exists('data/train'):\r\n",
        "        !cp /content/drive/MyDrive/Colab/seamless_textute_generator/data/concrete_maps.zip data\r\n",
        "        !unzip -q -n data/concrete_maps.zip -d data/train"
      ],
      "execution_count": 1,
      "outputs": [
        {
          "output_type": "stream",
          "text": [
            "Mounted at /content/drive\n"
          ],
          "name": "stdout"
        }
      ]
    },
    {
      "cell_type": "code",
      "metadata": {
        "id": "XZTsK3q8Er6V"
      },
      "source": [
        "from typing import Tuple, Any\r\n",
        "import numpy as np\r\n",
        "import matplotlib.pyplot as plt\r\n",
        "\r\n",
        "%matplotlib inline\r\n",
        "\r\n",
        "import torch\r\n",
        "import torch.nn as nn\r\n",
        "from torchvision import transforms, models\r\n",
        "from torchvision.datasets import ImageFolder\r\n",
        "from sklearn.model_selection import train_test_split\r\n",
        "DEVICE = torch.device('cuda' if torch.cuda.is_available() else 'cpu')\r\n",
        "\r\n",
        "import cv2"
      ],
      "execution_count": 37,
      "outputs": []
    },
    {
      "cell_type": "code",
      "metadata": {
        "id": "T2QMLSmvKtce"
      },
      "source": [
        "data_folder = r'data/train'\r\n",
        "image_names = tuple(f for f in os.listdir(data_folder) if os.path.isfile(os.path.join(data_folder, f)))\r\n"
      ],
      "execution_count": 20,
      "outputs": []
    },
    {
      "cell_type": "code",
      "metadata": {
        "id": "nJ7CgFTWItSE"
      },
      "source": [
        "from torch.utils import data\r\n",
        "from PIL import Image\r\n",
        "\r\n",
        "class TextureDataset(data.Dataset):\r\n",
        "\r\n",
        "    def __init__(self, root_path: str, file_list: list, transforms: Any=None, \r\n",
        "                 cross_koeff: float=0.1, im_size: Tuple[int, int]=(224, 224)):\r\n",
        "        super().__init__()\r\n",
        "        self.root_path = root_path\r\n",
        "        self.file_list = file_list\r\n",
        "        self.transforms = transforms\r\n",
        "        self.im_size = im_size\r\n",
        "        self.cross_coeff = cross_koeff\r\n",
        "\r\n",
        "    def __len__(self):\r\n",
        "        return len(self.file_list)\r\n",
        "\r\n",
        "    def __getitem__(self, index: int) -> Tuple[np.array, np.array]:\r\n",
        "        # if index > len(self.file_list):\r\n",
        "        #     print('invalid index!')\r\n",
        "        #     return self.__getitem__(np.random.randint(0, self.__len__()))\r\n",
        "\r\n",
        "        image_path = os.path.join(self.root_path, self.file_list[index])\r\n",
        "\r\n",
        "        image = cv2.imread(image_path)\r\n",
        "        image = cv2.cvtColor(image, cv2.COLOR_BGR2RGB)\r\n",
        "        X, mask = self.cut_cross(image)\r\n",
        "\r\n",
        "        if self.transforms is not None:\r\n",
        "            transformed = self.transforms(image=image)\r\n",
        "            image = transformed['image']\r\n",
        "            # mask = transformed['mask']\r\n",
        "        return X, mask, image\r\n",
        "    \r\n",
        "    def cut_cross(self, img: np.array)->Tuple[np.array, np.array]:\r\n",
        "        height, width, _ = img.shape\r\n",
        "        # Размеры креста\r\n",
        "        cross_height = round(height * self.cross_coeff / 2)\r\n",
        "        cross_width = round(width * self.cross_coeff / 2)\r\n",
        "\r\n",
        "        # Индексы вырезания креста\r\n",
        "        start_height_idx = round(height / 2 - cross_height)\r\n",
        "        end_height_idx = round(height / 2 + cross_height)\r\n",
        "\r\n",
        "        start_width_idx = round(width / 2 - cross_width)\r\n",
        "        end_width_idx = round(width / 2 + cross_width)\r\n",
        "\r\n",
        "        # Вырежем крест\r\n",
        "        X = img.copy()\r\n",
        "        X[start_height_idx : end_height_idx] = 0\r\n",
        "        X[:, start_width_idx : end_width_idx] = 0\r\n",
        "        # Определим маску креста\r\n",
        "        mask = np.zeros_like(X).astype(float)\r\n",
        "        mask[start_height_idx : end_height_idx] = 1.\r\n",
        "        mask[:, start_width_idx : end_width_idx] = 1.\r\n",
        "        return X, mask\r\n",
        "        \r\n",
        "    # TODO: Возможно не пригодится\r\n",
        "    def random_crop(self, img: np.array)-> np.array:\r\n",
        "        height, width, _ = img.shape\r\n",
        "        if height < self.im_size[0] or width < self.im_size[1]:\r\n",
        "            img = cv2.resize((max(height, self.im_size[0]), (width, self.im_size[1])))\r\n",
        "        \r\n",
        "        start_height = np.random.randint(img.shape[0] - self.im_size[0])\r\n",
        "        start_width = np.random.randint(img.shape[1] - self.im_size[1])\r\n",
        "        return img[start_height : start_height + self.im_size[0], start_width : start_width + self.im_size[1]]"
      ],
      "execution_count": 62,
      "outputs": []
    },
    {
      "cell_type": "code",
      "metadata": {
        "id": "T8st5rDSNNfz"
      },
      "source": [
        "dataset = TextureDataset(data_folder, image_names)"
      ],
      "execution_count": 63,
      "outputs": []
    },
    {
      "cell_type": "code",
      "metadata": {
        "colab": {
          "base_uri": "https://localhost:8080/",
          "height": 487
        },
        "id": "gGk-MYM5GiOp",
        "outputId": "7b8de8f0-64f3-4b9d-ea71-6cdc59c1ce8b"
      },
      "source": [
        "# look at the image\r\n",
        "np.random.seed(42)\r\n",
        "\r\n",
        "fig, ax = plt.subplots(nrows=3, ncols=3, figsize=(8, 8),\r\n",
        "                       sharey=True, sharex=True)\r\n",
        "\r\n",
        "for fig_x in ax.flatten():\r\n",
        "    i = np.random.choice(len(dataset), 1)[0]\r\n",
        "    _, im, _ = dataset[i]\r\n",
        "\r\n",
        "    im = cv2.resize(im, (224, 244))\r\n",
        "    # print(im)\r\n",
        "    fig_x.imshow(im)\r\n",
        "    # if img_label is not None:\r\n",
        "    #     fig_x.set_title(img_label)\r\n",
        "    fig_x.grid(False)"
      ],
      "execution_count": 64,
      "outputs": [
        {
          "output_type": "display_data",
          "data": {
            "image/png": "[encoded data removed]",
            "text/plain": [
              "<Figure size 576x576 with 9 Axes>"
            ]
          },
          "metadata": {
            "tags": [],
            "needs_background": "light"
          }
        }
      ]
    },
    {
      "cell_type": "code",
      "metadata": {
        "id": "AEutWVadoYi4"
      },
      "source": [
        ""
      ],
      "execution_count": null,
      "outputs": []
    }
  ]
}